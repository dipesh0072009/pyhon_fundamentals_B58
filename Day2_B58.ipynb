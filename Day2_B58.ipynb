{
 "cells": [
  {
   "cell_type": "code",
   "execution_count": 2,
   "id": "518bf279",
   "metadata": {},
   "outputs": [
    {
     "name": "stdout",
     "output_type": "stream",
     "text": [
      "5\n"
     ]
    }
   ],
   "source": [
    "X=2\n",
    "Y=3\n",
    "Z=X+Y\n",
    "print(Z)"
   ]
  },
  {
   "cell_type": "code",
   "execution_count": null,
   "id": "3ade6f9a",
   "metadata": {},
   "outputs": [],
   "source": [
    "Rules for declaring the variants in python\n",
    "1> no name spaces while declaring the variable name"
   ]
  },
  {
   "cell_type": "code",
   "execution_count": null,
   "id": "8c52b8bd",
   "metadata": {},
   "outputs": [],
   "source": []
  },
  {
   "cell_type": "code",
   "execution_count": 3,
   "id": "17a54777",
   "metadata": {},
   "outputs": [
    {
     "name": "stdout",
     "output_type": "stream",
     "text": [
      "dipesh\n"
     ]
    }
   ],
   "source": [
    "firstname ='dipesh'\n",
    "print(firstname)"
   ]
  },
  {
   "cell_type": "code",
   "execution_count": 4,
   "id": "c3d6b752",
   "metadata": {},
   "outputs": [
    {
     "name": "stdout",
     "output_type": "stream",
     "text": [
      "dipesh\n"
     ]
    }
   ],
   "source": [
    "first_name='dipesh'\n",
    "print(first_name)"
   ]
  },
  {
   "cell_type": "code",
   "execution_count": null,
   "id": "d0734bc6",
   "metadata": {},
   "outputs": [],
   "source": [
    "2> A variable name should not start with number"
   ]
  },
  {
   "cell_type": "code",
   "execution_count": 13,
   "id": "bc864fdc",
   "metadata": {},
   "outputs": [
    {
     "name": "stdout",
     "output_type": "stream",
     "text": [
      "dipesh\n"
     ]
    }
   ],
   "source": [
    "name1 = 'dipesh'\n",
    "print(name1)"
   ]
  },
  {
   "cell_type": "code",
   "execution_count": null,
   "id": "e680597b",
   "metadata": {},
   "outputs": [],
   "source": [
    "3> A variable name should not contain any special character"
   ]
  },
  {
   "cell_type": "code",
   "execution_count": 14,
   "id": "70794e16",
   "metadata": {},
   "outputs": [
    {
     "ename": "SyntaxError",
     "evalue": "invalid syntax (Temp/ipykernel_10516/2252037209.py, line 1)",
     "output_type": "error",
     "traceback": [
      "\u001b[1;36m  File \u001b[1;32m\"C:\\Users\\dipes\\AppData\\Local\\Temp/ipykernel_10516/2252037209.py\"\u001b[1;36m, line \u001b[1;32m1\u001b[0m\n\u001b[1;33m    name@ = 'dipesh'\u001b[0m\n\u001b[1;37m          ^\u001b[0m\n\u001b[1;31mSyntaxError\u001b[0m\u001b[1;31m:\u001b[0m invalid syntax\n"
     ]
    }
   ],
   "source": [
    "name@ = 'dipesh'\n",
    "print(name@)"
   ]
  },
  {
   "cell_type": "code",
   "execution_count": null,
   "id": "3d6c92c3",
   "metadata": {},
   "outputs": [],
   "source": [
    "introduction to datatypes in python\n",
    "string\n",
    "number(integer and float)\n",
    "list\n",
    "tuple\n",
    "dictionaries"
   ]
  },
  {
   "cell_type": "raw",
   "id": "3cade044",
   "metadata": {},
   "source": [
    "classification of datatypes in python\n",
    "1> mutable > we can able to edit / alter the data(flexible)\n",
    "2> immutable> we can not able to edit / alter the data(fixed)"
   ]
  },
  {
   "cell_type": "code",
   "execution_count": null,
   "id": "13335de4",
   "metadata": {},
   "outputs": [],
   "source": [
    "introdcution to string data types\n",
    "definition : a string is nothing but a series of characters declared in quotes\n",
    "classification : it is classified as an immutable data types"
   ]
  },
  {
   "cell_type": "raw",
   "id": "4d32a6b4",
   "metadata": {},
   "source": [
    "how to declare string data types\n",
    "3 possible approaches of declaring a string\n",
    "1> single quote\n",
    "2> double quote\n",
    "3> triple quote"
   ]
  },
  {
   "cell_type": "code",
   "execution_count": 15,
   "id": "adc97c57",
   "metadata": {},
   "outputs": [
    {
     "name": "stdout",
     "output_type": "stream",
     "text": [
      "dipesh\n"
     ]
    }
   ],
   "source": [
    "name1='dipesh'\n",
    "print(name1)"
   ]
  },
  {
   "cell_type": "code",
   "execution_count": 16,
   "id": "2ad8d882",
   "metadata": {},
   "outputs": [
    {
     "name": "stdout",
     "output_type": "stream",
     "text": [
      "dipesh\n"
     ]
    }
   ],
   "source": [
    "name2=\"dipesh\"\n",
    "print(name2)"
   ]
  },
  {
   "cell_type": "markdown",
   "id": "168efde3",
   "metadata": {},
   "source": []
  },
  {
   "cell_type": "code",
   "execution_count": 17,
   "id": "c1051f74",
   "metadata": {},
   "outputs": [
    {
     "name": "stdout",
     "output_type": "stream",
     "text": [
      "dipesh\n"
     ]
    }
   ],
   "source": [
    "name3='''dipesh'''\n",
    "print(name3)"
   ]
  }
 ],
 "metadata": {
  "kernelspec": {
   "display_name": "Python 3 (ipykernel)",
   "language": "python",
   "name": "python3"
  },
  "language_info": {
   "codemirror_mode": {
    "name": "ipython",
    "version": 3
   },
   "file_extension": ".py",
   "mimetype": "text/x-python",
   "name": "python",
   "nbconvert_exporter": "python",
   "pygments_lexer": "ipython3",
   "version": "3.9.7"
  }
 },
 "nbformat": 4,
 "nbformat_minor": 5
}
